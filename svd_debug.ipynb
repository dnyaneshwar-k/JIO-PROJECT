{
 "cells": [
  {
   "cell_type": "code",
   "execution_count": 1,
   "metadata": {},
   "outputs": [
    {
     "name": "stdout",
     "output_type": "stream",
     "text": [
      "Config file loaded successfully\n",
      "/Users/pradip.gupta/JEAP/object_detection\n"
     ]
    }
   ],
   "source": [
    "import os\n",
    "import config\n",
    "import pandas as pd\n",
    "import time\n",
    "print(config.root_path)"
   ]
  },
  {
   "cell_type": "code",
   "execution_count": 2,
   "metadata": {},
   "outputs": [],
   "source": [
    "import findspark\n",
    "findspark.init(config.spark_home)\n",
    "from pyspark import SparkContext, SparkConf\n",
    "\n",
    "try:    \n",
    "    #start_spark()\n",
    "    conf = SparkConf().setAppName('ObjectDetection').setMaster(config.spark_master)\n",
    "    sc = SparkContext(conf=conf)\n",
    "    sc.setLogLevel(\"ERROR\")\n",
    "except:\n",
    "    sc.stop()\n",
    "    conf = SparkConf().setAppName('ObjectDetection').setMaster(config.spark_master)\n",
    "    sc = SparkContext(conf=conf)\n",
    "    sc.setLogLevel(\"ERROR\")"
   ]
  },
  {
   "cell_type": "code",
   "execution_count": 7,
   "metadata": {},
   "outputs": [
    {
     "name": "stdout",
     "output_type": "stream",
     "text": [
      "http://www.youtube.com/watch?v=XQvcZWCacKE&pbjreload=10\n"
     ]
    }
   ],
   "source": [
    "config.video_list_path\n",
    "df = pd.read_excel(config.video_list_path)\n",
    "video_list = df[\"links\"]\n",
    "video_url = video_list[2]\n",
    "video_url = \"https://www.youtube.com/watch?v=XQvcZWCacKE&pbjreload=10\"\n",
    "print(video_url)"
   ]
  },
  {
   "cell_type": "code",
   "execution_count": 10,
   "metadata": {},
   "outputs": [
    {
     "name": "stdout",
     "output_type": "stream",
     "text": [
      "Video file  for url http://www.youtube.com/watch?v=XQvcZWCacKE&pbjreload=10 already present in database.                     Not downloading it\n",
      "/Users/pradip.gupta/JEAP_database/video_library/3IdiotsRajusJobInterview.mp4 3IdiotsRajusJobInterview.bytes\n"
     ]
    }
   ],
   "source": [
    "from file_download import file_download\n",
    "video_id, proto_name = file_download(video_url)\n",
    "print(video_id,proto_name)"
   ]
  },
  {
   "cell_type": "code",
   "execution_count": 7,
   "metadata": {},
   "outputs": [
    {
     "data": {
      "text/plain": [
       "5059"
      ]
     },
     "execution_count": 7,
     "metadata": {},
     "output_type": "execute_result"
    }
   ],
   "source": [
    "from check_validity import check_validity\n",
    "video_file_path = video_id\n",
    "num_frames = check_validity(video_file_path)\n",
    "num_frames"
   ]
  },
  {
   "cell_type": "code",
   "execution_count": 8,
   "metadata": {},
   "outputs": [],
   "source": [
    "import imageio\n",
    "# Load the video frame by frame\n",
    "videogen = imageio.get_reader(video_file_path,'ffmpeg')\n",
    "fps = videogen.get_meta_data()['fps'] #fps to be used to decide min scene length\n",
    "\n",
    "# Create a folder to store frames of the modified video\n",
    "mod_folder, _ = proto_name.split(\".\")\n",
    "modified_frames_path = os.path.join(config.modified_frames, mod_folder)\n",
    "if not os.path.exists(modified_frames_path):\n",
    "        os.mkdir(modified_frames_path) "
   ]
  },
  {
   "cell_type": "code",
   "execution_count": 9,
   "metadata": {},
   "outputs": [
    {
     "name": "stdout",
     "output_type": "stream",
     "text": [
      "[PySceneDetect] Parsing video 3IdiotsRajusJobInterview.mp4...\n",
      "[PySceneDetect] Video Resolution / Framerate: 1280 x 720 / 29.970 FPS\n",
      "Verify that the above parameters are correct (especially framerate, use --force-fps to correct if required).\n",
      "No of scenes detected are 20\n",
      "The scene changes are at the following time stamps ['00:00:00.000', '00:00:03.670', '00:00:12.479', '00:00:18.852', '00:00:27.894', '00:00:34.401', '00:00:44.310', '00:00:55.221', '00:01:11.571', '00:01:18.344', '00:01:29.389', '00:01:35.128', '00:01:43.937', '00:01:56.549', '00:02:06.092', '00:02:18.238', '00:02:25.178', '00:02:32.719', '00:02:39.759', '00:02:48.001', '00:02:48.735']\n",
      "time taken is 91.65367197990417\n"
     ]
    }
   ],
   "source": [
    "start = time.time()\n",
    "import importlib\n",
    "import extract_shots_with_pyscenedetect\n",
    "importlib.reload(extract_shots_with_pyscenedetect)\n",
    "\n",
    "from extract_shots_with_pyscenedetect import extract_shots_with_pyscenedetect\n",
    "# Scene detection algorithm\n",
    "scene_list, scene_list_tc = extract_shots_with_pyscenedetect(video_file_path, threshold = config.scene_detect_thresh, \n",
    "                                                             min_scene_len = 5*fps)\n",
    "print(\"time taken is {}\".format(time.time()-start))"
   ]
  },
  {
   "cell_type": "code",
   "execution_count": null,
   "metadata": {},
   "outputs": [],
   "source": []
  },
  {
   "cell_type": "code",
   "execution_count": 10,
   "metadata": {},
   "outputs": [],
   "source": [
    "sc.stop()"
   ]
  },
  {
   "cell_type": "code",
   "execution_count": null,
   "metadata": {},
   "outputs": [],
   "source": []
  }
 ],
 "metadata": {
  "kernelspec": {
   "display_name": "Python 3",
   "language": "python",
   "name": "python3"
  },
  "language_info": {
   "codemirror_mode": {
    "name": "ipython",
    "version": 3
   },
   "file_extension": ".py",
   "mimetype": "text/x-python",
   "name": "python",
   "nbconvert_exporter": "python",
   "pygments_lexer": "ipython3",
   "version": "3.6.5"
  }
 },
 "nbformat": 4,
 "nbformat_minor": 2
}
